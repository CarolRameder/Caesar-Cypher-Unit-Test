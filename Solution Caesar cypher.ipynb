{
  "nbformat": 4,
  "nbformat_minor": 0,
  "metadata": {
    "colab": {
      "provenance": []
    },
    "kernelspec": {
      "name": "python3",
      "display_name": "Python 3"
    },
    "language_info": {
      "name": "python"
    }
  },
  "cells": [
    {
      "cell_type": "markdown",
      "source": [
        "The unoptimal solution to this problem is trying all possible values for k between two words to decide if their compatibility. This method is brute force. To determine the complexity, we consider the worst possible scenario. We note:\n",
        "\n",
        "n - the number of words\n",
        "\n",
        "m - the length of the words\n",
        "\n",
        "In this context, we need the following operations:\n",
        "\n",
        "*   Shifting the characters in the word with k positions => O(m)\n",
        "*   Comparing two words => O(m)\n",
        "*   Try all 26 possible rotations => O(1)\n",
        "*   Comparing all words and all belong to a different equivalence class =>\n",
        "\n",
        "$$O\\left( \\frac{n \\cdot (n-1)}{2}\\right) = O\\left(n^2\\right)$$\n",
        "\n",
        "The total complexity that we get is:\n",
        "$$O\\left(2m \\cdot n^2\\right) = O\\left(m \\cdot n^2\\right)$$\n",
        "\n",
        "The solution implemented and tested below reduces this complexity by determining if two words are class equivalent in a linear manner. We can get from one $word_{i}$ to $word_{j}$ with a finite number of rotations, if the two have the exact same pattern of difference between the two consecutive letters. For example, the words 'HELLO' and 'IFMMP' are calss equivalent because both form the pattern (3, -7, 0, -3) (i.e. 'H' - 'E' = 'I' - 'F'= 3, 'E'-'L' = 'F' - M' = -7, 'L'-'L' = 'M - 'M' = 0 etc.)\n",
        "\n",
        "For this, we need the following operations:\n",
        "\n",
        "*   Calculating the pattern for each word =>\n",
        "$$O\\left((m-1) \\cdot n\\right) = O\\left(m \\cdot n\\right)$$\n",
        "\n",
        "*   Creating and updating the dictiobary => O(n)\n",
        "\n",
        "The total complexity that we get is:\n",
        "$$ O\\left(m \\cdot n + n \\right) =O\\left(m \\cdot n\\right)$$\n"
      ],
      "metadata": {
        "id": "9qdTOVDznlDX"
      }
    },
    {
      "cell_type": "markdown",
      "source": [
        "## Utils"
      ],
      "metadata": {
        "id": "KjCHuRE5CNJU"
      }
    },
    {
      "cell_type": "code",
      "execution_count": null,
      "metadata": {
        "colab": {
          "base_uri": "https://localhost:8080/"
        },
        "id": "m8531kmrE3Jy",
        "outputId": "c10087c6-45cf-4ea5-93cf-fff5a7968e9f"
      },
      "outputs": [
        {
          "output_type": "stream",
          "name": "stdout",
          "text": [
            "26\n"
          ]
        }
      ],
      "source": [
        "#Here we determine the size of the english alphabet\n",
        "print(ord('Z') - ord('A')+1)"
      ]
    },
    {
      "cell_type": "code",
      "source": [
        "#This method was used initially for the unoptimal solution\n",
        "#Then it was used to generate tests\n",
        "#this method takes as input the word and number of positions to be shifted\n",
        "#\n",
        "def rot(word: str ,k:int)->str:\n",
        "  \"\"\"\n",
        "  This function applies a basic rotation (Caesar cipher) to the input string.\n",
        "\n",
        "  Parameters:\n",
        "  - word (str): The input word to be encrypted. Assumes all uppercase letters.\n",
        "  - k (int): The number of positions each letter in the input word is shifted.\n",
        "\n",
        "  Returns:\n",
        "  - str: The encrypted word after applying the Caesar cipher rotation.\n",
        "\n",
        "  Note: The function is designed to work with uppercase letters only and does not account for non-alphabetical\n",
        "  characters.\n",
        "  \"\"\"\n",
        "  #shifting an input with the size of the alphabet yields the input itself\n",
        "  if k > 26:\n",
        "    k=k%26\n",
        "\n",
        "  #building the alphabet\n",
        "  alpha = [chr(ord('A') + i) for i in range(ord('Z') - ord('A')+1)]\n",
        "  caes = []\n",
        "  for ch in word:\n",
        "\n",
        "    # Finding the encrypted character and append it to the 'caes' list\n",
        "    caes.append(alpha[(ord(ch)-ord('A')+k)%26]) # by applying % alphabet_size, we ensure that the pattern is not affected by the circularity of the letter sequence. Rotating 'Z' by 1 would result in 'A'\n",
        "\n",
        "  #retruning the encrypted word\n",
        "  return ''.join(caes)"
      ],
      "metadata": {
        "id": "-iNvMiWIGHMU"
      },
      "execution_count": 73,
      "outputs": []
    },
    {
      "cell_type": "code",
      "source": [
        "print(rot('AZYYV',1))\n",
        "print(rot('AZYYV',13))\n",
        "print(rot('AZYYV',25))"
      ],
      "metadata": {
        "colab": {
          "base_uri": "https://localhost:8080/"
        },
        "id": "KsrfDbaVIL0X",
        "outputId": "03b572ed-b6c7-411f-9d36-e1194a3e2c58"
      },
      "execution_count": 75,
      "outputs": [
        {
          "output_type": "stream",
          "name": "stdout",
          "text": [
            "IFMMP\n",
            "NMLLI\n",
            "ZYXXU\n"
          ]
        }
      ]
    },
    {
      "cell_type": "markdown",
      "source": [
        "## Working code"
      ],
      "metadata": {
        "id": "LCI2ZhL5AyVw"
      }
    },
    {
      "cell_type": "code",
      "source": [
        "def pattern(word: str)-> tuple:\n",
        "    \"\"\"\n",
        "    Generates a pattern tuple representing the differences between each adjacent pair of letters in the input word,\n",
        "    based on their positions in the alphabet.\n",
        "    Parameters:\n",
        "    - word (str): The input word from which to generate the pattern.\n",
        "\n",
        "    Returns:\n",
        "    - tuple: A tuple of integers representing the differences between each pair of adjacent letters in the input\n",
        "      word.\n",
        "\n",
        "    Note: The function is designed to work with any sequence of characters that fall within the ASCII range of valid\n",
        "    English letters. The output tuple's length is always one less than the length of the input word\n",
        "    \"\"\"\n",
        "\n",
        "    pat = []\n",
        "    for i in range(len(word) - 1):\n",
        "\n",
        "        # Calculating the circular difference between adjacent characters\n",
        "        diff = (ord(word[i])-ord(word[i+1]))%26\n",
        "\n",
        "        # Adjusting the difference for the minimal circular distance\n",
        "        pat.append(diff if diff <= 13 else diff - 26)\n",
        "    return tuple(pat)"
      ],
      "metadata": {
        "id": "oRtM2ILn0RFm"
      },
      "execution_count": 83,
      "outputs": []
    },
    {
      "cell_type": "code",
      "source": [
        "def find_rot_equivalence_classes(strings: list[str]) -> list[list[str]]:\n",
        "  \"\"\"\n",
        "  This function groups a list of strings into equivalence classes based on their rotational pattern. Two strings belong\n",
        "  to the same equivalence class if the differences between each pair of adjacent letters are the same across the strings.\n",
        "\n",
        "  Parameters:\n",
        "  - strings (list[str]): A list of strings to be classified into equivalence classes based on their rotational patterns.\n",
        "\n",
        "  Returns:\n",
        "  - list[list[str]]: A list where each sublist contains strings that are equivalent in terms of their rotational\n",
        "    patterns. Strings within the same sublist can be considered rotations of one another, following the same\n",
        "    pattern of letter shifts.\n",
        "\n",
        "  Note: The function assumes that all inputs are composed of capital letters from the English alphabet.\n",
        "  \"\"\"\n",
        "  eqv = {}\n",
        "  for word in strings:\n",
        "    pat = pattern(word)\n",
        "    if pat in eqv.keys():\n",
        "      eqv[pat].append(word)\n",
        "    else:\n",
        "      eqv[pat] = [word]\n",
        "\n",
        "  return list(eqv.values())"
      ],
      "metadata": {
        "id": "lhrdFhTv0mwp"
      },
      "execution_count": 93,
      "outputs": []
    },
    {
      "cell_type": "code",
      "source": [
        "#simple test\n",
        "res = find_rot_equivalence_classes(['HELLO','URYYB','IFMMP','WORLD','ASVPH','SUN'])\n",
        "print(res)"
      ],
      "metadata": {
        "colab": {
          "base_uri": "https://localhost:8080/"
        },
        "id": "ci6Fyfcy7MVB",
        "outputId": "4d355d96-00a0-4802-95ff-60dae878b7ca"
      },
      "execution_count": 94,
      "outputs": [
        {
          "output_type": "stream",
          "name": "stdout",
          "text": [
            "[['HELLO', 'URYYB', 'IFMMP'], ['WORLD', 'ASVPH'], ['SUN']]\n"
          ]
        }
      ]
    },
    {
      "cell_type": "markdown",
      "source": [
        "## Unit tests"
      ],
      "metadata": {
        "id": "lFJanpB_B_3O"
      }
    },
    {
      "cell_type": "code",
      "source": [
        "import unittest\n",
        "class TestCipherFunctions(unittest.TestCase):\n",
        "\n",
        "    def test_word_pattern(self):\n",
        "        # Test the pattern function with a few examples\n",
        "        self.assertEqual(pattern('HELLO'), (3, -7, 0, -3))\n",
        "        self.assertEqual(pattern('IFMMP'), (3, -7, 0, -3))\n",
        "        self.assertEqual(pattern('URYYB'), (3, -7, 0, -3))\n",
        "        self.assertEqual(pattern('WORLD'), (8, -3, 6, 8))\n",
        "        self.assertEqual(pattern('ASVPH'), (8, -3, 6, 8))\n",
        "\n",
        "    def test_find_rot_equivalence_classes_example(self):\n",
        "        # Test with the example input\n",
        "        self.assertEqual(find_rot_equivalence_classes(['HELLO', 'IFMMP', 'URYYB']),\n",
        "                         [['HELLO', 'IFMMP', 'URYYB']])\n",
        "\n",
        "    def test_find_rot_equivalence_classes_consec(self):\n",
        "        # Test words with consecutive letters\n",
        "        self.assertEqual(find_rot_equivalence_classes(['ABCD', 'EFGH', 'IJKL', 'MNOP']),\n",
        "                         [['ABCD', 'EFGH', 'IJKL', 'MNOP']])\n",
        "\n",
        "    def test_find_rot_equivalence_classes_multiple(self):\n",
        "        # Test with multiple equivalence classes\n",
        "        self.assertEqual(find_rot_equivalence_classes(['HELLO', 'IFMMP', 'URYYB', 'WORLD', 'ASVPH', 'SUN']),\n",
        "                         [['HELLO', 'IFMMP', 'URYYB'], ['WORLD', 'ASVPH'], ['SUN']])\n",
        "\n",
        "    def test_find_rot_equivalence_classes_empty(self):\n",
        "        # Test with an empty list\n",
        "        self.assertEqual(find_rot_equivalence_classes([]), [])\n",
        "\n",
        "    def test_find_rot_equivalence_classes_no_equivalence(self):\n",
        "        # Test with no equivalent words\n",
        "        self.assertEqual(find_rot_equivalence_classes(['PYTHON', 'JAVA', 'CPLUSPLUS']),\n",
        "                         [['PYTHON'], ['JAVA'], ['CPLUSPLUS']])\n",
        "\n",
        "    def test_find_rot_equivalence_classes_same_word(self):\n",
        "        # Test with the same word repeated\n",
        "        self.assertEqual(find_rot_equivalence_classes(['HELLO', 'HELLO', 'HELLO']),\n",
        "                         [['HELLO', 'HELLO', 'HELLO']])\n",
        "\n",
        "    def test_find_rot_equivalence_classes_end(self):\n",
        "        # Alphabet interval end letters with small and large difference\n",
        "        #BAZZW 1, NMLLI 13, ZYXXU 25\n",
        "        self.assertEqual(find_rot_equivalence_classes(['AAZB', 'ZZYA', 'AZYYV','NMLLI','BAZZW', 'ZYXXU']),\n",
        "                         [['AAZB', 'ZZYA'], ['AZYYV','NMLLI','BAZZW','ZYXXU']])\n",
        "\n",
        "    def test_find_rot_equivalence_classes_almost_equivalent(self):\n",
        "        # Test with words that are close to being Rot-equivalent.\n",
        "        #'QRSUVW', 'YZACDE' would have been in the same list\n",
        "        self.assertEqual(find_rot_equivalence_classes(['ABCEFG', 'YZBCDE', 'QRSUVU']),\n",
        "                         [['ABCEFG'], ['YZBCDE'], ['QRSUVU']])\n",
        "\n",
        "    def test_find_rot_equivalence_classes_large_one_letter(self):\n",
        "        # Test with one letter words\n",
        "        self.assertEqual(find_rot_equivalence_classes(['A', 'B', 'C', 'D', 'E', 'F', 'X', 'Y']),\n",
        "                         [['A', 'B', 'C', 'D', 'E', 'F', 'X', 'Y']])\n",
        "\n",
        "    def test_find_rot_equivalence_classes_repeat(self):\n",
        "        # Test with very large strings to check for performance issues\n",
        "        long_a = 'A' * 1000\n",
        "        long_f = 'F' * 1000\n",
        "        long_axy = 'AXY' * 10000\n",
        "        long_cza = 'CZA' * 10000\n",
        "        long_ab = 'AB' * 10000\n",
        "        self.assertEqual(find_rot_equivalence_classes([long_a, long_f, long_axy, long_cza, long_ab]), [[long_a, long_f], [long_axy, long_cza], [long_ab]])\n",
        ""
      ],
      "metadata": {
        "id": "YWeMJiW1CCnT"
      },
      "execution_count": 86,
      "outputs": []
    },
    {
      "cell_type": "code",
      "source": [
        "def run_tests():\n",
        "    suite = unittest.TestLoader().loadTestsFromTestCase(TestCipherFunctions)\n",
        "    unittest.TextTestRunner().run(suite)\n",
        "\n",
        "run_tests()"
      ],
      "metadata": {
        "colab": {
          "base_uri": "https://localhost:8080/"
        },
        "id": "Z4Bhf3hfCT6p",
        "outputId": "fa385a7d-2711-4e6b-eda5-c26e4b37f12d"
      },
      "execution_count": 87,
      "outputs": [
        {
          "output_type": "stream",
          "name": "stderr",
          "text": [
            "...........\n",
            "----------------------------------------------------------------------\n",
            "Ran 11 tests in 0.064s\n",
            "\n",
            "OK\n"
          ]
        }
      ]
    },
    {
      "cell_type": "markdown",
      "source": [
        "## Using input from STDIN"
      ],
      "metadata": {
        "id": "tqhgU2D1InZN"
      }
    },
    {
      "cell_type": "code",
      "source": [
        "def build_word_list(input_string):\n",
        "    # Step 1: Remove the leading '[' and trailing ']' from the string\n",
        "    stripped_input = input_string.strip(\"[]\").strip()\n",
        "\n",
        "    # Check if the input is empty after stripping\n",
        "    if not stripped_input:\n",
        "        return []\n",
        "\n",
        "    # Step 2: Split the string by commas to get individual words\n",
        "    words = stripped_input.split(\",\")\n",
        "\n",
        "    # Step 3: Remove leading/trailing spaces and apostrophes, then store the cleaned words\n",
        "    cleaned_words = [word.strip().strip(\"'\") for word in words]\n",
        "\n",
        "    return cleaned_words"
      ],
      "metadata": {
        "id": "JwCmGlEVGYey"
      },
      "execution_count": 104,
      "outputs": []
    },
    {
      "cell_type": "code",
      "source": [
        "# Read input from STDIN\n",
        "user_input = input(\"Please enter a valid input for the Caesar cipher problem:\")\n",
        "\n",
        "# Example usage\n",
        "function_input = build_word_list(user_input)\n",
        "user_output = find_rot_equivalence_classes(function_input)\n",
        "print(user_output)"
      ],
      "metadata": {
        "colab": {
          "base_uri": "https://localhost:8080/"
        },
        "id": "sXRbwz7NBtS8",
        "outputId": "4f899c66-35d3-4cc8-d1db-5b9ea8c4680f"
      },
      "execution_count": 105,
      "outputs": [
        {
          "output_type": "stream",
          "name": "stdout",
          "text": [
            "Please enter a valid input for the Caesar cipher problem:['HELLO', 'IFMMP', 'URYYB', 'WORLD', 'ASVPH', 'SUN']\n",
            "[['HELLO', 'IFMMP', 'URYYB'], ['WORLD', 'ASVPH'], ['SUN']]\n"
          ]
        }
      ]
    }
  ]
}